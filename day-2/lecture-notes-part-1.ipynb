{
 "cells": [
  {
   "cell_type": "markdown",
   "metadata": {},
   "source": [
    "# Data Science Skills Course - Day 2"
   ]
  },
  {
   "cell_type": "markdown",
   "metadata": {},
   "source": [
    "## Data Types Review"
   ]
  },
  {
   "cell_type": "markdown",
   "metadata": {},
   "source": [
    "![title](dataStruct.png)"
   ]
  },
  {
   "cell_type": "markdown",
   "metadata": {},
   "source": [
    "### Primitive DataTypes:\n",
    "1. Strings\n",
    "2. Integers\n",
    "3. Floats\n",
    "4. Booleans"
   ]
  },
  {
   "cell_type": "code",
   "execution_count": 1,
   "metadata": {},
   "outputs": [
    {
     "data": {
      "text/plain": [
       "str"
      ]
     },
     "execution_count": 1,
     "metadata": {},
     "output_type": "execute_result"
    }
   ],
   "source": [
    "# Strings\n",
    "\n",
    "favorite_entree = \"pepperoni pizza\"\n",
    "favorite_dessert = '3 scoops of ice cream'\n",
    "\n",
    "type(favorite_entree)"
   ]
  },
  {
   "cell_type": "code",
   "execution_count": 2,
   "metadata": {},
   "outputs": [
    {
     "data": {
      "text/plain": [
       "int"
      ]
     },
     "execution_count": 2,
     "metadata": {},
     "output_type": "execute_result"
    }
   ],
   "source": [
    "# Integers\n",
    "\n",
    "num_of_calories = 3000\n",
    "type(num_of_calories)"
   ]
  },
  {
   "cell_type": "code",
   "execution_count": 3,
   "metadata": {},
   "outputs": [
    {
     "data": {
      "text/plain": [
       "float"
      ]
     },
     "execution_count": 3,
     "metadata": {},
     "output_type": "execute_result"
    }
   ],
   "source": [
    "# Floats\n",
    "\n",
    "pi = 3.14159\n",
    "type(pi)"
   ]
  },
  {
   "cell_type": "code",
   "execution_count": 4,
   "metadata": {},
   "outputs": [
    {
     "data": {
      "text/plain": [
       "False"
      ]
     },
     "execution_count": 4,
     "metadata": {},
     "output_type": "execute_result"
    }
   ],
   "source": [
    "# Booleans\n",
    "\n",
    "True\n",
    "False"
   ]
  },
  {
   "cell_type": "markdown",
   "metadata": {},
   "source": [
    "### Non-primitive DataTypes:\n",
    "\n",
    "1. Lists\n",
    "2. Dictionaries"
   ]
  },
  {
   "cell_type": "markdown",
   "metadata": {},
   "source": [
    "#### Lists are an ordered collection of elements\n",
    "* Created with **square brackets**\n",
    "* A list can contain duplicates elements\n",
    "* Elements can be of any data type"
   ]
  },
  {
   "cell_type": "code",
   "execution_count": 8,
   "metadata": {},
   "outputs": [],
   "source": [
    "flatiron_instructors = ['Laura', 'Tashawn', 'Forrest', 'Gary', 'Gary']\n",
    "flatiron_instructors\n",
    "\n",
    "languages = list(('Python', 'Ruby', 'JavaScript', 'Elixir', 'C++'))"
   ]
  },
  {
   "cell_type": "code",
   "execution_count": 9,
   "metadata": {},
   "outputs": [
    {
     "data": {
      "text/plain": [
       "['pepperoni pizza', '3 scoops of ice cream', 3000, 3.14159]"
      ]
     },
     "execution_count": 9,
     "metadata": {},
     "output_type": "execute_result"
    }
   ],
   "source": [
    "random_list = [True, 'Skiing', 408, 3.14159]\n",
    "\n",
    "vars_defined_above = [favorite_entree, favorite_dessert, num_of_calories, pi]\n",
    "vars_defined_above"
   ]
  },
  {
   "cell_type": "markdown",
   "metadata": {},
   "source": [
    "### Dictionaries are a collection of unordered key/value pairs\n",
    "* Created with **curly brackets**\n",
    "* Keys should be unique --> if there are duplicate keys, python will overwrite the previous values"
   ]
  },
  {
   "cell_type": "code",
   "execution_count": 10,
   "metadata": {},
   "outputs": [
    {
     "data": {
      "text/plain": [
       "{'Forrest': 'JavaScript', 'Gary': 'C++', 'Laura': 'Python', 'Tashawn': 'Ruby'}"
      ]
     },
     "execution_count": 10,
     "metadata": {},
     "output_type": "execute_result"
    }
   ],
   "source": [
    "instructors_fave_languages = {'Laura': 'Python', \n",
    "                              'Tashawn': 'Ruby', \n",
    "                              'Forrest': 'JavaScript', \n",
    "                              'Gary': 'Elixir', \n",
    "                              'Gary': 'C++'}\n",
    "\n",
    "instructors_fave_languages"
   ]
  },
  {
   "cell_type": "markdown",
   "metadata": {},
   "source": [
    "\n",
    "\n",
    "\n",
    "# Working with Data Types\n",
    "\n",
    "### Strings"
   ]
  },
  {
   "cell_type": "code",
   "execution_count": 11,
   "metadata": {},
   "outputs": [],
   "source": [
    "favorite_entree = \"pepperoni pizza\"\n",
    "favorite_dessert = '3 scoops of ice cream'"
   ]
  },
  {
   "cell_type": "code",
   "execution_count": 16,
   "metadata": {},
   "outputs": [
    {
     "data": {
      "text/plain": [
       "'o'"
      ]
     },
     "execution_count": 16,
     "metadata": {},
     "output_type": "execute_result"
    }
   ],
   "source": [
    "# accessing characters of a string\n",
    "\n",
    "first_character = favorite_entree[-1]\n",
    "only_os = favorite_dessert[4]\n",
    "only_os"
   ]
  },
  {
   "cell_type": "code",
   "execution_count": 18,
   "metadata": {},
   "outputs": [
    {
     "data": {
      "text/plain": [
       "'5 pepperoni pizzas'"
      ]
     },
     "execution_count": 18,
     "metadata": {},
     "output_type": "execute_result"
    }
   ],
   "source": [
    "# adding to a string\n",
    "\n",
    "superbowl_meal = '5 ' + favorite_entree + 's'\n",
    "superbowl_meal"
   ]
  },
  {
   "cell_type": "code",
   "execution_count": 24,
   "metadata": {},
   "outputs": [
    {
     "name": "stdout",
     "output_type": "stream",
     "text": [
      "4544049344\n",
      "4544050496\n"
     ]
    },
    {
     "data": {
      "text/plain": [
       "'5 PEPPERONI PIZZAS'"
      ]
     },
     "execution_count": 24,
     "metadata": {},
     "output_type": "execute_result"
    }
   ],
   "source": [
    "# using Python's built-in string methods\n",
    "\n",
    "# dir(favorite_entree)\n",
    "print(id(superbowl_meal))\n",
    "print(id(superbowl_meal.upper()))\n",
    "\n",
    "id(superbowl_meal) == superbowl_meal.lower()\n",
    "excited_meal = superbowl_meal.upper()\n",
    "excited_meal"
   ]
  },
  {
   "cell_type": "markdown",
   "metadata": {},
   "source": [
    "### Lists"
   ]
  },
  {
   "cell_type": "code",
   "execution_count": null,
   "metadata": {},
   "outputs": [],
   "source": [
    "# help(list)"
   ]
  },
  {
   "cell_type": "code",
   "execution_count": 25,
   "metadata": {},
   "outputs": [],
   "source": [
    "flatiron_instructors = ['Laura', 'Tashawn', 'Forrest', 'Gary', 'Gary']\n",
    "\n",
    "languages = ['Python', 'Ruby', 'JavaScript', 'Elixir', 'C++']"
   ]
  },
  {
   "cell_type": "code",
   "execution_count": 32,
   "metadata": {},
   "outputs": [
    {
     "data": {
      "text/plain": [
       "['Ruby', 'JavaScript', 'Elixir']"
      ]
     },
     "execution_count": 32,
     "metadata": {},
     "output_type": "execute_result"
    }
   ],
   "source": [
    "# accessing elements of a list\n",
    "\n",
    "laura = flatiron_instructors[0]\n",
    "c_plus_plus = languages[-1]\n",
    "middle_elements = languages[1:-1]\n",
    "middle_elements"
   ]
  },
  {
   "cell_type": "code",
   "execution_count": 34,
   "metadata": {},
   "outputs": [
    {
     "data": {
      "text/plain": [
       "['Python', 'Ruby', 'JavaScript', 'Erlang', 'C++']"
      ]
     },
     "execution_count": 34,
     "metadata": {},
     "output_type": "execute_result"
    }
   ],
   "source": [
    "# reassinging elements of a list\n",
    "\n",
    "languages[3] = 'Erlang'\n",
    "languages"
   ]
  },
  {
   "cell_type": "code",
   "execution_count": 51,
   "metadata": {},
   "outputs": [
    {
     "data": {
      "text/plain": [
       "['Python', 'JavaScript', 'SQL', 'Erlang']"
      ]
     },
     "execution_count": 51,
     "metadata": {},
     "output_type": "execute_result"
    }
   ],
   "source": [
    "# using Python built-in list methods\n",
    "\n",
    "# adding elements to a list\n",
    "# languages.append('C++')\n",
    "\n",
    "# removing elements from a list\n",
    "# languages.remove('Ruby')\n",
    "# languages\n",
    "\n",
    "languages"
   ]
  },
  {
   "cell_type": "markdown",
   "metadata": {},
   "source": [
    "# Paired Coding Challenge #1"
   ]
  },
  {
   "cell_type": "code",
   "execution_count": null,
   "metadata": {},
   "outputs": [],
   "source": [
    "# 1. Grab the number 6 from this nested_list and set it equal to the number_six variable\n",
    "\n",
    "nested_list = [1, [2, [4, [5, [6]], 3]]]\n",
    "number_six = None"
   ]
  },
  {
   "cell_type": "code",
   "execution_count": null,
   "metadata": {},
   "outputs": [],
   "source": [
    "# 2. Sort the cats list in alphabetical order\n",
    "\n",
    "cats = ['Maine Coon', 'Tabby', 'Siamese', 'Garfield', 'Sylvester']"
   ]
  },
  {
   "cell_type": "code",
   "execution_count": null,
   "metadata": {},
   "outputs": [],
   "source": [
    "# 3. Look up a new string or list method and explain how it works"
   ]
  },
  {
   "cell_type": "code",
   "execution_count": null,
   "metadata": {},
   "outputs": [],
   "source": [
    "# 4. Create a new list cat_jrs by appending 'Jr.' to each of the cats names\n",
    "\n",
    "cats = ['Maine Coon', 'Tabby', 'Siamese', 'Garfield', 'Sylvester']\n",
    "cat_jrs = None"
   ]
  },
  {
   "cell_type": "code",
   "execution_count": null,
   "metadata": {},
   "outputs": [],
   "source": [
    "# 5. create a pets array that contains the elements of the cats and dogs lists \n",
    "\n",
    "cats = ['Maine Coon', 'Tabby', 'Siamese', 'Garfield', 'Sylvester']\n",
    "dogs = ['Scooby', 'Scrappy', 'Clifford', 'Pickles', 'Floyd']\n",
    "animals = None"
   ]
  },
  {
   "cell_type": "code",
   "execution_count": null,
   "metadata": {},
   "outputs": [],
   "source": [
    "# 6. add the cats in more_cats to the original list of cats\n",
    "\n",
    "cats = ['Maine Coon', 'Tabby', 'Siamese', 'Garfield', 'Sylvester']\n",
    "more_cats = ['Horatio', 'Whiskers', 'Chesire']"
   ]
  },
  {
   "cell_type": "code",
   "execution_count": null,
   "metadata": {},
   "outputs": [],
   "source": [
    "# BONUS: Sorts the cats list in alphabetical order by third character of each element\n",
    "\n",
    "cats = ['Maine Coon', 'Tabby', 'Siamese', 'Garfield', 'Sylvester']\n",
    "sorted_by_third_char = None"
   ]
  }
 ],
 "metadata": {
  "kernelspec": {
   "display_name": "Python 3",
   "language": "python",
   "name": "python3"
  },
  "language_info": {
   "codemirror_mode": {
    "name": "ipython",
    "version": 3
   },
   "file_extension": ".py",
   "mimetype": "text/x-python",
   "name": "python",
   "nbconvert_exporter": "python",
   "pygments_lexer": "ipython3",
   "version": "3.6.4"
  }
 },
 "nbformat": 4,
 "nbformat_minor": 2
}
